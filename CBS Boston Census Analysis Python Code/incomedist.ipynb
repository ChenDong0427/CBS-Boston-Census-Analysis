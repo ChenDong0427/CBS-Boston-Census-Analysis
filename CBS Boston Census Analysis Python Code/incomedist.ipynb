{
 "cells": [
  {
   "cell_type": "markdown",
   "id": "1d98ae16",
   "metadata": {},
   "source": [
    "Census data is a 2D, each city has its own row number, change column number for city\n",
    "\n",
    "1: San Francisco\n",
    "\n",
    "2: Boston\n",
    "\n",
    "3: Portland\n",
    "\n",
    "4: Philadelphia\n",
    "\n",
    "5: Seattle\n",
    "\n",
    "Simply run all cells for the income distribution graph for the selected city"
   ]
  },
  {
   "cell_type": "code",
   "execution_count": 9,
   "id": "66d4695a",
   "metadata": {},
   "outputs": [],
   "source": [
    "city_num = 1"
   ]
  },
  {
   "cell_type": "code",
   "execution_count": 10,
   "id": "9b9ef058",
   "metadata": {},
   "outputs": [
    {
     "data": {
      "image/png": "[encoded data removed]",
      "text/plain": [
       "<Figure size 432x288 with 1 Axes>"
      ]
     },
     "metadata": {
      "needs_background": "light"
     },
     "output_type": "display_data"
    }
   ],
   "source": [
    "import pandas as pd\n",
    "import numpy as np\n",
    "import matplotlib.pyplot as plt\n",
    "# simply run the file, changing columns depending on what bar chart you want to show up\n",
    "\n",
    "# read dataset, these are the file locations, so change these depending on your own path\n",
    "df_10 = pd.read_csv(\"./data/d2_housingpercent2010.csv\")\n",
    "df_11 = pd.read_csv(\"./data/d2_housingpercent2011.csv\")\n",
    "df_12 = pd.read_csv(\"./data/d2_housingpercent2012.csv\")\n",
    "df_13 = pd.read_csv(\"./data/d2_housingpercent2013.csv\")\n",
    "df_14 = pd.read_csv(\"./data/d2_housingpercent2014.csv\")\n",
    "df_15 = pd.read_csv(\"./data/d2_housingpercent2015.csv\")\n",
    "df_16 = pd.read_csv(\"./data/d2_housingpercent2016.csv\")\n",
    "df_17 = pd.read_csv(\"./data/d2_housingpercent2017.csv\")\n",
    "df_18 = pd.read_csv(\"./data/d2_housingpercent2018.csv\")\n",
    "df_19 = pd.read_csv(\"./data/d2_housingpercent2019.csv\")\n",
    "\n",
    "dfs1 = [df_10, df_11, df_12, df_13, df_14, df_15, df_16]\n",
    "dfs2 = [df_17, df_18, df_19]\n",
    "\n",
    "inc_lessthan20 = []\n",
    "inc_20to34 = []\n",
    "inc_35to49 = []\n",
    "inc_50to74 = []\n",
    "inc_75plus = []\n",
    "\n",
    "for df in dfs1:\n",
    "    inc_lessthan20.append(float(df['S2503_C01_002E'][city_num]) + float(df['S2503_C01_003E'][city_num]) + \\\n",
    "        float(df['S2503_C01_004E'][city_num]) + float(df['S2503_C01_005E'][city_num]))\n",
    "    inc_20to34.append((float(df['S2503_C01_006E'][city_num]) + float(df['S2503_C01_007E'][city_num])))\n",
    "    inc_35to49.append(float(df['S2503_C01_008E'][city_num]))\n",
    "    inc_50to74.append(float(df['S2503_C01_009E'][city_num]))\n",
    "    inc_75plus.append(float(df['S2503_C01_010E'][city_num]) + float(df['S2503_C01_011E'][city_num]) + \\\n",
    "        float(df['S2503_C01_012E'][city_num]))\n",
    "        \n",
    "for df in dfs2:\n",
    "    total = float(df['S2503_C01_001E'][city_num])\n",
    "    running = float(df['S2503_C01_002E'][city_num]) + float(df['S2503_C01_003E'][city_num]) + \\\n",
    "        float(df['S2503_C01_004E'][city_num]) + float(df['S2503_C01_005E'][city_num])\n",
    "    inc_lessthan20.append((running / total) * 100)\n",
    "    inc_20to34.append((float(df['S2503_C01_006E'][city_num]) + float(df['S2503_C01_007E'][city_num]))/ total * 100)\n",
    "    inc_35to49.append(float(df['S2503_C01_008E'][city_num])/ total * 100)\n",
    "    inc_50to74.append(float(df['S2503_C01_009E'][city_num])/ total * 100)\n",
    "    running = float(df['S2503_C01_010E'][city_num]) + float(df['S2503_C01_011E'][2]) + \\\n",
    "        float(df['S2503_C01_012E'][city_num])\n",
    "    inc_75plus.append((running / total) * 100)\n",
    "    \n",
    "# organizing column and row names\n",
    "data = [inc_lessthan20, inc_20to34, inc_35to49, inc_50to74, inc_75plus]\n",
    "columns = ('2010', '2011', '2012', '2013', '2013', '2015', '2016', '2017', '2018', '2019')\n",
    "rows = [' <20K', '20K-34K', '35K-49K', '50K-74K', '>=75K']\n",
    "\n",
    "# Get some pastel shades for the colors\n",
    "colors = ['#DAF7A6', '#FFC300', '#FF5733', '#C70039',  '#900C3F']\n",
    "n_rows = len(data)\n",
    "colors.reverse()\n",
    "\n",
    "# formatting bar chart\n",
    "index = np.arange(len(columns)) + 0.3\n",
    "bar_width = 0.4\n",
    "\n",
    "# Initialize the vertical-offset for the stacked bar chart.\n",
    "y_offset = np.zeros(len(columns))\n",
    "\n",
    "correction = [[0]*10]\n",
    "# Plot bars and create text labels for the table\n",
    "cell_text = []\n",
    "for row in range(n_rows):\n",
    "    plt.bar(index, data[row], bar_width, bottom=y_offset, color=colors[row])\n",
    "    y_offset += data[row]\n",
    "    cell_text.append([int(x) for x in y_offset])\n",
    "    cell_text[-1] = np.subtract(cell_text[-1], correction[-1])\n",
    "    cell_text[-1] = ['%.2f' % x + '%' for x in cell_text[-1]]\n",
    "    correction.append(list(y_offset))\n",
    "# Reverse colors and text labels to display the last value at the top.\n",
    "\n",
    "\n",
    "# Add a table at the bottom of the axes\n",
    "the_table = plt.table(cellText=cell_text,\n",
    "                      rowLabels=rows,\n",
    "                      rowColours=colors,\n",
    "                      colLabels=columns,\n",
    "                      loc='bottom')\n",
    "\n",
    "# Adjust layout to make room for the table:\n",
    "plt.subplots_adjust(left=0.2, bottom=0.2)\n",
    "\n",
    "plt.xticks([])\n",
    "# change title depending on which city you are currently displaying\n",
    "plt.title('Household Income Distribution')\n",
    "\n",
    "plt.show()"
   ]
  }
 ],
 "metadata": {
  "kernelspec": {
   "display_name": "Python 3.8.8 64-bit ('base': conda)",
   "language": "python",
   "name": "python388jvsc74a57bd0e8407c63970c4ff45454571e5c80a15cb7c83e0258089970e2b9a43702732bfc"
  },
  "language_info": {
   "codemirror_mode": {
    "name": "ipython",
    "version": 3
   },
   "file_extension": ".py",
   "mimetype": "text/x-python",
   "name": "python",
   "nbconvert_exporter": "python",
   "pygments_lexer": "ipython3",
   "version": "3.8.8"
  }
 },
 "nbformat": 4,
 "nbformat_minor": 5
}
