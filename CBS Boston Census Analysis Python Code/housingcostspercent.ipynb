{
 "cells": [
  {
   "cell_type": "markdown",
   "id": "381c5b94",
   "metadata": {},
   "source": [
    "Census data is a 2D, each city has its own row number, change column number for city\n",
    "\n",
    "1: San Francisco\n",
    "\n",
    "2: Boston\n",
    "\n",
    "3: Portland\n",
    "\n",
    "4: Philadelphia\n",
    "\n",
    "5: Seattle\n",
    "\n",
    "Next change the income variable below"
   ]
  },
  {
   "cell_type": "code",
   "execution_count": 130,
   "id": "dc331bda",
   "metadata": {},
   "outputs": [],
   "source": [
    "city_num = 2"
   ]
  },
  {
   "cell_type": "markdown",
   "id": "82e00cab",
   "metadata": {},
   "source": [
    "Change income bracket that you want to visualize, \n",
    "\n",
    "20: 20K to 34K\n",
    "\n",
    "35: 35K to 49K\n",
    "\n",
    "50: 50K to 74K\n",
    "\n",
    "75: 75K+\n",
    "\n",
    "After you have set both city_num and income, just run all cells"
   ]
  },
  {
   "cell_type": "code",
   "execution_count": 131,
   "id": "def32d54",
   "metadata": {},
   "outputs": [],
   "source": [
    "income = 35"
   ]
  },
  {
   "cell_type": "code",
   "execution_count": 132,
   "id": "6ed0e714",
   "metadata": {},
   "outputs": [],
   "source": [
    "import pandas as pd\n",
    "import numpy as np\n",
    "import matplotlib.pyplot as plt\n",
    "# simply run the file, changing columns depending on what bar chart you want to show up\n",
    "\n",
    "# read dataset, these are the file locations, so change these depending on your own path\n",
    "df_10 = pd.read_csv(\"./data/d2_housingpercent2010.csv\")\n",
    "df_11 = pd.read_csv(\"./data/d2_housingpercent2011.csv\")\n",
    "df_12 = pd.read_csv(\"./data/d2_housingpercent2012.csv\")\n",
    "df_13 = pd.read_csv(\"./data/d2_housingpercent2013.csv\")\n",
    "df_14 = pd.read_csv(\"./data/d2_housingpercent2014.csv\")\n",
    "df_15 = pd.read_csv(\"./data/d2_housingpercent2015.csv\")\n",
    "df_16 = pd.read_csv(\"./data/d2_housingpercent2016.csv\")\n",
    "df_17 = pd.read_csv(\"./data/d2_housingpercent2017.csv\")\n",
    "df_18 = pd.read_csv(\"./data/d2_housingpercent2018.csv\")\n",
    "df_19 = pd.read_csv(\"./data/d2_housingpercent2019.csv\")\n",
    "\n",
    "\n",
    "dfs3 = [df_17, df_18, df_19]\n",
    "dfs2 = [df_15, df_16]\n",
    "dfs1 = [df_10, df_11, df_12, df_13, df_14]\n",
    "\n",
    "inc75_lessthan20 = []\n",
    "inc75_20to29 = []\n",
    "inc75_morethan30 = []\n",
    "\n",
    "df1_dict = { 20: 33, 35: 37, 50: 41, 75: 45}\n",
    "df2_dict = {20: 29, 35: 33, 50: 37, 75: 41}"
   ]
  },
  {
   "cell_type": "code",
   "execution_count": 133,
   "id": "87da8ac9",
   "metadata": {},
   "outputs": [
    {
     "data": {
      "image/png": "[encoded data removed]",
      "text/plain": [
       "<Figure size 432x288 with 1 Axes>"
      ]
     },
     "metadata": {
      "needs_background": "light"
     },
     "output_type": "display_data"
    }
   ],
   "source": [
    "# you need to look at the census data csv in order to find the corresponding\n",
    "# columns for each income bracket for example: df['S2503_C02_033E'][city_num], the first\n",
    "# column is what you need to change.\n",
    "index = df1_dict[income]\n",
    "index2 = df2_dict[income]\n",
    "\n",
    "for df in dfs1:\n",
    "    totalpercent = float(df['S2503_C01_0' + str(index) + 'E'][city_num])\n",
    "    inc75_lessthan20.append(float(df['S2503_C01_0' + str(index+1) + 'E'][city_num])/totalpercent * 100)\n",
    "    inc75_20to29.append(float(df['S2503_C01_0' + str(index+2) + 'E'][city_num])/totalpercent * 100)\n",
    "    inc75_morethan30.append(float(df['S2503_C01_0' + str(index+3) + 'E'][city_num])/totalpercent * 100)\n",
    "\n",
    "for df in dfs2:\n",
    "    totalpercent = float(df['S2503_C01_0' + str(index2) + 'E'][city_num])\n",
    "    inc75_lessthan20.append(float(df['S2503_C01_0' + str(index2+1) + 'E'][city_num])/totalpercent * 100)\n",
    "    inc75_20to29.append(float(df['S2503_C01_0' + str(index2+2) + 'E'][city_num])/totalpercent * 100)\n",
    "    inc75_morethan30.append(float(df['S2503_C01_0' + str(index2+3) + 'E'][city_num])/totalpercent * 100)  \n",
    "\n",
    "for df in dfs3:\n",
    "    totalpercent = float(df['S2503_C02_0' + str(index2) + 'E'][city_num])\n",
    "    inc75_lessthan20.append(float(df['S2503_C02_0' + str(index2+1) + 'E'][city_num])/totalpercent * 100)\n",
    "    inc75_20to29.append(float(df['S2503_C02_0' + str(index2+2) + 'E'][city_num])/totalpercent * 100)\n",
    "    inc75_morethan30.append(float(df['S2503_C02_0' + str(index2+3) + 'E'][city_num])/totalpercent * 100)\n",
    "     \n",
    "    \n",
    "data = [inc75_lessthan20 , inc75_20to29, inc75_morethan30]\n",
    "columns = ('2010', '2011', '2012', '2013', '2013', '2015', '2016', '2017', '2018', '2019')\n",
    "rows = ['Less than 20%', '20 to 29%', 'More than 30%']\n",
    "\n",
    "# Get some pastel shades for the colors\n",
    "colors = ['#DAF7A6', '#FFC300', '#FF5733']\n",
    "n_rows = len(data)\n",
    "\n",
    "\n",
    "# formatting bar chart\n",
    "index = np.arange(len(columns)) + 0.3\n",
    "bar_width = 0.4\n",
    "\n",
    "# Initialize the vertical-offset for the stacked bar chart.\n",
    "y_offset = np.zeros(len(columns))\n",
    "\n",
    "correction = [[0]*10]\n",
    "# Plot bars and create text labels for the table\n",
    "cell_text = []\n",
    "for row in range(n_rows):\n",
    "    plt.bar(index, data[row], bar_width, bottom=y_offset, color=colors[row])\n",
    "    y_offset += data[row]\n",
    "    cell_text.append([int(x) for x in y_offset])\n",
    "    cell_text[-1] = np.subtract(cell_text[-1], correction[-1])\n",
    "    cell_text[-1] = ['%.2f' % x + '%' for x in cell_text[-1]]\n",
    "    correction.append(list(y_offset))\n",
    "# Reverse colors and text labels to display the last value at the top.\n",
    "\n",
    "\n",
    "# Add a table at the bottom of the axes\n",
    "the_table = plt.table(cellText=cell_text,\n",
    "                      rowLabels=rows,\n",
    "                      rowColours=colors,\n",
    "                      colLabels=columns,\n",
    "                      loc='bottom')\n",
    "\n",
    "# Adjust layout to make room for the table:\n",
    "plt.subplots_adjust(left=0.2, bottom=0.2)\n",
    "\n",
    "plt.xticks([])\n",
    "# change title depending on which city you are currently displaying\n",
    "plt.title('Household Costs as a Percentage of Income')\n",
    "\n",
    "plt.show()"
   ]
  },
  {
   "cell_type": "code",
   "execution_count": null,
   "id": "815dbfd4",
   "metadata": {},
   "outputs": [],
   "source": []
  },
  {
   "cell_type": "code",
   "execution_count": null,
   "id": "9442898d",
   "metadata": {},
   "outputs": [],
   "source": []
  }
 ],
 "metadata": {
  "kernelspec": {
   "display_name": "Python 3.8.8 64-bit ('base': conda)",
   "language": "python",
   "name": "python388jvsc74a57bd0e8407c63970c4ff45454571e5c80a15cb7c83e0258089970e2b9a43702732bfc"
  },
  "language_info": {
   "codemirror_mode": {
    "name": "ipython",
    "version": 3
   },
   "file_extension": ".py",
   "mimetype": "text/x-python",
   "name": "python",
   "nbconvert_exporter": "python",
   "pygments_lexer": "ipython3",
   "version": "3.8.8"
  }
 },
 "nbformat": 4,
 "nbformat_minor": 5
}
